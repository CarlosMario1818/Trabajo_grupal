{
  "nbformat": 4,
  "nbformat_minor": 0,
  "metadata": {
    "colab": {
      "provenance": []
    },
    "kernelspec": {
      "name": "python3",
      "display_name": "Python 3"
    },
    "language_info": {
      "name": "python"
    }
  },
  "cells": [
    {
      "cell_type": "code",
      "execution_count": 10,
      "metadata": {
        "colab": {
          "base_uri": "https://localhost:8080/"
        },
        "id": "6suriI1Lh1D_",
        "outputId": "c39ea6a0-f7e7-430b-eea9-26aadbcb720c"
      },
      "outputs": [
        {
          "output_type": "execute_result",
          "data": {
            "text/plain": [
              "[{'estado actual': (0, 0, 1, 1),\n",
              "  'entrada': (0, 1, 0, 1),\n",
              "  'Salida': (0, 1, 1, 0),\n",
              "  'estado siguiente': (0, 1, 1, 1)}]"
            ]
          },
          "metadata": {},
          "execution_count": 10
        }
      ],
      "source": [
        "tabla=[\n",
        "    {\n",
        "        'estado actual':(0,0,1,1),\n",
        "        'entrada':(0,1,0,1),\n",
        "        'Salida' :(0,1,1,0),\n",
        "        'estado siguiente': (0,1,1,1),\n",
        "    }\n",
        "]\n",
        "tabla"
      ]
    },
    {
      "cell_type": "code",
      "source": [
        "import json\n",
        "\n",
        "with open('tabla.json', 'w') as archivo:\n",
        "    json.dump(tabla,archivo)"
      ],
      "metadata": {
        "id": "LE-8lZ4wjZ79"
      },
      "execution_count": 11,
      "outputs": []
    },
    {
      "cell_type": "code",
      "source": [
        "with open('tabla.json', 'r') as archivo:\n",
        "    tabla_leida=json.load(archivo)\n",
        "tabla_leida"
      ],
      "metadata": {
        "colab": {
          "base_uri": "https://localhost:8080/"
        },
        "id": "9iq2s2M9jhEU",
        "outputId": "fa17a9f4-3e84-4179-c9a4-d86898b91835"
      },
      "execution_count": 12,
      "outputs": [
        {
          "output_type": "execute_result",
          "data": {
            "text/plain": [
              "[{'estado actual': [0, 0, 1, 1],\n",
              "  'entrada': [0, 1, 0, 1],\n",
              "  'Salida': [0, 1, 1, 0],\n",
              "  'estado siguiente': [0, 1, 1, 1]}]"
            ]
          },
          "metadata": {},
          "execution_count": 12
        }
      ]
    }
  ]
}